{
  "cells": [
    {
      "cell_type": "markdown",
      "metadata": {
        "id": "view-in-github",
        "colab_type": "text"
      },
      "source": [
        "<a href=\"https://colab.research.google.com/github/catastropiyush/arxiv.py/blob/master/Copy_of_arxiv_api.ipynb\" target=\"_parent\"><img src=\"https://colab.research.google.com/assets/colab-badge.svg\" alt=\"Open In Colab\"/></a>"
      ]
    },
    {
      "cell_type": "markdown",
      "metadata": {
        "id": "cuWjwM9ehxbR"
      },
      "source": [
        "# ArXiv API"
      ]
    },
    {
      "cell_type": "markdown",
      "metadata": {
        "id": "p4NSRm7thxbT"
      },
      "source": [
        "The ArXiV API allows programmatic access to the arXiv's e-print content and metadata. \"The goal of the interface is to facilitate new and creative use of the the vast body of material on the arXiv by providing a low barrier to entry for application developers.\" https://arxiv.org/help/api\n",
        "\n",
        "The API's user manual (https://arxiv.org/help/api/user-manual) provides helpful documentation for using the API and retrieving article metadata.\n",
        "\n",
        "Our examples below will introduce you to the basics of querying the ArXiV API."
      ]
    },
    {
      "cell_type": "markdown",
      "metadata": {
        "id": "YrpDxt-NhxbT"
      },
      "source": [
        "## Install Packages"
      ]
    },
    {
      "cell_type": "code",
      "execution_count": null,
      "metadata": {
        "id": "ZGkpeiR9hxbU"
      },
      "outputs": [],
      "source": [
        "import urllib\n",
        "import arxiv\n",
        "import requests\n",
        "import json\n",
        "import csv\n",
        "import pandas as pd\n",
        "from collections import Counter, defaultdict\n",
        "import numpy as np # for array manipulation\n",
        "import matplotlib.pyplot as plt # for data visualization\n",
        "%matplotlib inline\n",
        "import datetime"
      ]
    },
    {
      "cell_type": "markdown",
      "metadata": {
        "id": "wRFLGin3hxbU"
      },
      "source": [
        "## Query the API"
      ]
    },
    {
      "cell_type": "markdown",
      "metadata": {
        "id": "uE4dMI0thxbV"
      },
      "source": [
        "Perform a simple query for \"graphene.\" We'll limit results to the titles of the 10 most recent papers."
      ]
    },
    {
      "cell_type": "code",
      "execution_count": null,
      "metadata": {
        "id": "oqGAhyBKhxbV",
        "outputId": "678864ee-d627-4783-c410-621529debd15"
      },
      "outputs": [
        {
          "name": "stdout",
          "output_type": "stream",
          "text": [
            "A family of ideal Chern flat bands with arbitrary Chern number in chiral twisted graphene multilayers\n",
            "Correlated insulators, density wave states, and their nonlinear optical response in magic-angle twisted bilayer graphene\n",
            "Gate-versus defect-induced voltage drop and negative differential resistance in vertical graphene heterostructures\n",
            "Enhancing the hybridization of plasmons in graphene with 2D superconductor collective modes\n",
            "Anisotropy of the proton kinetic energy as a tool for capturing structural transition in nanoconfined H$_2$O\n",
            "Metal-Insulator transition in strained Graphene: A quantum Monte carlo study\n",
            "Non-perturbative field theoretical aspects of graphene and related systems\n",
            "Hierarchy of Ideal Flatbands in Chiral Twisted Multilayer Graphene Models\n",
            "Inducing a topological transition in graphene nanoribbons superlattices by external strain\n",
            "Engineering the Electronic Structure of Two-Dimensional Materials with Near-Field Electrostatic Effects of Self-Assembled Organic Layers\n"
          ]
        }
      ],
      "source": [
        "search = arxiv.Search(\n",
        "  query = \"graphene\",\n",
        "  max_results = 10,\n",
        "  sort_by = arxiv.SortCriterion.SubmittedDate\n",
        ")\n",
        "\n",
        "for result in search.results():\n",
        "  print(result.title)"
      ]
    },
    {
      "cell_type": "markdown",
      "metadata": {
        "id": "RRjslc-GhxbW"
      },
      "source": [
        "Do another query for the topic \"quantum dots,\" but note that you could swap in a topic of your liking.\n",
        "\n",
        "You can define a custom arXiv API client with specialized pagination behavior. This time we'll process each paper as it's fetched rather than exhausting the result-generator into a `list`; this is useful for running analysis while the client sleeps.\n",
        "\n",
        "Because this `arxiv.Search` doesn't bound the number of results with `max_results`, it will fetch *every* matching paper (roughly 10,000). This may take several minutes."
      ]
    },
    {
      "cell_type": "code",
      "execution_count": null,
      "metadata": {
        "tags": [],
        "id": "s2Upu_2zhxbW"
      },
      "outputs": [],
      "source": [
        "results_generator = arxiv.Client(\n",
        "  page_size=1000,\n",
        "  delay_seconds=3,\n",
        "  num_retries=3\n",
        ").results(arxiv.Search(\n",
        "  query='\"quantum dots\"',\n",
        "  id_list=[],\n",
        "  sort_by=arxiv.SortCriterion.Relevance,\n",
        "  sort_order=arxiv.SortOrder.Descending,\n",
        "))\n",
        "\n",
        "quantum_dots = []\n",
        "for paper in results_generator:\n",
        "  # You could do per-paper analysis here; for now, just collect them in a list.\n",
        "  quantum_dots.append(paper)"
      ]
    },
    {
      "cell_type": "markdown",
      "metadata": {
        "id": "CX6bCsVWhxbW"
      },
      "source": [
        "## Organize and analyze your results"
      ]
    },
    {
      "cell_type": "markdown",
      "metadata": {
        "id": "jDqKxDrxhxbX"
      },
      "source": [
        "Create a dataframe to better analyze your results. This example uses Python's [`vars`](https://docs.python.org/3/library/functions.html#vars) built-in function to convert search results into Python dictionaries of paper metadata."
      ]
    },
    {
      "cell_type": "code",
      "execution_count": null,
      "metadata": {
        "id": "NeVGVgVrhxbX"
      },
      "outputs": [],
      "source": [
        "qd_df = pd.DataFrame([vars(paper) for paper in quantum_dots])"
      ]
    },
    {
      "cell_type": "markdown",
      "metadata": {
        "id": "Pkqu-q2ihxbX"
      },
      "source": [
        "We'll look at the first 10 results."
      ]
    },
    {
      "cell_type": "code",
      "execution_count": null,
      "metadata": {
        "tags": [
          "output_scroll",
          "full-width"
        ],
        "id": "A4Uc1P1khxbX",
        "outputId": "75d47b72-b05f-4425-d78a-08a6357210fa"
      },
      "outputs": [
        {
          "data": {
            "text/html": [
              "<div>\n",
              "<style scoped>\n",
              "    .dataframe tbody tr th:only-of-type {\n",
              "        vertical-align: middle;\n",
              "    }\n",
              "\n",
              "    .dataframe tbody tr th {\n",
              "        vertical-align: top;\n",
              "    }\n",
              "\n",
              "    .dataframe thead th {\n",
              "        text-align: right;\n",
              "    }\n",
              "</style>\n",
              "<table border=\"1\" class=\"dataframe\">\n",
              "  <thead>\n",
              "    <tr style=\"text-align: right;\">\n",
              "      <th></th>\n",
              "      <th>entry_id</th>\n",
              "      <th>updated</th>\n",
              "      <th>published</th>\n",
              "      <th>title</th>\n",
              "      <th>authors</th>\n",
              "      <th>summary</th>\n",
              "      <th>comment</th>\n",
              "      <th>journal_ref</th>\n",
              "      <th>doi</th>\n",
              "      <th>primary_category</th>\n",
              "      <th>categories</th>\n",
              "      <th>links</th>\n",
              "      <th>pdf_url</th>\n",
              "      <th>_raw</th>\n",
              "    </tr>\n",
              "  </thead>\n",
              "  <tbody>\n",
              "    <tr>\n",
              "      <th>0</th>\n",
              "      <td>http://arxiv.org/abs/cond-mat/0310363v1</td>\n",
              "      <td>2003-10-15 20:15:59+00:00</td>\n",
              "      <td>2003-10-15 20:15:59+00:00</td>\n",
              "      <td>Excitonic properties of strained wurtzite and ...</td>\n",
              "      <td>[Vladimir A. Fonoberov, Alexander A. Balandin]</td>\n",
              "      <td>We investigate exciton states theoretically in...</td>\n",
              "      <td>18 pages, accepted for publication in the Jour...</td>\n",
              "      <td>J. Appl. Phys. 94, 7178 (2003)</td>\n",
              "      <td>10.1063/1.1623330</td>\n",
              "      <td>cond-mat.mes-hall</td>\n",
              "      <td>[cond-mat.mes-hall]</td>\n",
              "      <td>[http://dx.doi.org/10.1063/1.1623330, http://a...</td>\n",
              "      <td>http://arxiv.org/pdf/cond-mat/0310363v1</td>\n",
              "      <td>{'id': 'http://arxiv.org/abs/cond-mat/0310363v...</td>\n",
              "    </tr>\n",
              "    <tr>\n",
              "      <th>1</th>\n",
              "      <td>http://arxiv.org/abs/2008.11666v1</td>\n",
              "      <td>2020-08-26 16:48:21+00:00</td>\n",
              "      <td>2020-08-26 16:48:21+00:00</td>\n",
              "      <td>A two-dimensional array of single-hole quantum...</td>\n",
              "      <td>[F. van Riggelen, N. W. Hendrickx, W. I. L. La...</td>\n",
              "      <td>Quantum dots fabricated using techniques and m...</td>\n",
              "      <td>7 pages, 4 figures</td>\n",
              "      <td>None</td>\n",
              "      <td>10.1063/5.0037330</td>\n",
              "      <td>cond-mat.mes-hall</td>\n",
              "      <td>[cond-mat.mes-hall]</td>\n",
              "      <td>[http://dx.doi.org/10.1063/5.0037330, http://a...</td>\n",
              "      <td>http://arxiv.org/pdf/2008.11666v1</td>\n",
              "      <td>{'id': 'http://arxiv.org/abs/2008.11666v1', 'g...</td>\n",
              "    </tr>\n",
              "    <tr>\n",
              "      <th>2</th>\n",
              "      <td>http://arxiv.org/abs/cond-mat/0411742v1</td>\n",
              "      <td>2004-11-30 02:56:15+00:00</td>\n",
              "      <td>2004-11-30 02:56:15+00:00</td>\n",
              "      <td>Polar optical phonons in wurtzite spheroidal q...</td>\n",
              "      <td>[Vladimir A. Fonoberov, Alexander A. Balandin]</td>\n",
              "      <td>Polar optical-phonon modes are derived analyti...</td>\n",
              "      <td>11 pages</td>\n",
              "      <td>J. Phys.: Condens. Matter 17, 1085 (2005)</td>\n",
              "      <td>10.1088/0953-8984/17/7/003</td>\n",
              "      <td>cond-mat.mes-hall</td>\n",
              "      <td>[cond-mat.mes-hall]</td>\n",
              "      <td>[http://dx.doi.org/10.1088/0953-8984/17/7/003,...</td>\n",
              "      <td>http://arxiv.org/pdf/cond-mat/0411742v1</td>\n",
              "      <td>{'id': 'http://arxiv.org/abs/cond-mat/0411742v...</td>\n",
              "    </tr>\n",
              "    <tr>\n",
              "      <th>3</th>\n",
              "      <td>http://arxiv.org/abs/1403.4790v1</td>\n",
              "      <td>2014-03-19 13:03:49+00:00</td>\n",
              "      <td>2014-03-19 13:03:49+00:00</td>\n",
              "      <td>Group-velocity slowdown in quantum-dots and qu...</td>\n",
              "      <td>[Stephan Michael, Weng W. Chow, Hans Christian...</td>\n",
              "      <td>We investigate theoretically the slowdown of o...</td>\n",
              "      <td>Physics and Simulation of Optoelectronic Devic...</td>\n",
              "      <td>None</td>\n",
              "      <td>10.1117/12.2042412</td>\n",
              "      <td>cond-mat.mes-hall</td>\n",
              "      <td>[cond-mat.mes-hall, cond-mat.mtrl-sci]</td>\n",
              "      <td>[http://dx.doi.org/10.1117/12.2042412, http://...</td>\n",
              "      <td>http://arxiv.org/pdf/1403.4790v1</td>\n",
              "      <td>{'id': 'http://arxiv.org/abs/1403.4790v1', 'gu...</td>\n",
              "    </tr>\n",
              "    <tr>\n",
              "      <th>4</th>\n",
              "      <td>http://arxiv.org/abs/cond-mat/0403328v1</td>\n",
              "      <td>2004-03-12 18:28:06+00:00</td>\n",
              "      <td>2004-03-12 18:28:06+00:00</td>\n",
              "      <td>A new method to epitaxially grow long-range or...</td>\n",
              "      <td>[J. Bauer, D. Schuh, E. Uccelli, R. Schulz, A....</td>\n",
              "      <td>We report on a new approach for positioning of...</td>\n",
              "      <td>None</td>\n",
              "      <td>None</td>\n",
              "      <td>None</td>\n",
              "      <td>cond-mat.mes-hall</td>\n",
              "      <td>[cond-mat.mes-hall]</td>\n",
              "      <td>[http://arxiv.org/abs/cond-mat/0403328v1, http...</td>\n",
              "      <td>http://arxiv.org/pdf/cond-mat/0403328v1</td>\n",
              "      <td>{'id': 'http://arxiv.org/abs/cond-mat/0403328v...</td>\n",
              "    </tr>\n",
              "    <tr>\n",
              "      <th>5</th>\n",
              "      <td>http://arxiv.org/abs/cond-mat/0411484v1</td>\n",
              "      <td>2004-11-18 16:47:14+00:00</td>\n",
              "      <td>2004-11-18 16:47:14+00:00</td>\n",
              "      <td>Giant optical anisotropy in a single InAs quan...</td>\n",
              "      <td>[I. Favero, Guillaume Cassabois, A. Jankovic, ...</td>\n",
              "      <td>We present the experimental evidence of giant ...</td>\n",
              "      <td>submitted to Applied Physics Letters</td>\n",
              "      <td>None</td>\n",
              "      <td>10.1063/1.1854733</td>\n",
              "      <td>cond-mat.other</td>\n",
              "      <td>[cond-mat.other]</td>\n",
              "      <td>[http://dx.doi.org/10.1063/1.1854733, http://a...</td>\n",
              "      <td>http://arxiv.org/pdf/cond-mat/0411484v1</td>\n",
              "      <td>{'id': 'http://arxiv.org/abs/cond-mat/0411484v...</td>\n",
              "    </tr>\n",
              "    <tr>\n",
              "      <th>6</th>\n",
              "      <td>http://arxiv.org/abs/1003.2350v1</td>\n",
              "      <td>2010-03-11 15:52:09+00:00</td>\n",
              "      <td>2010-03-11 15:52:09+00:00</td>\n",
              "      <td>Linewidth broadening of a quantum dot coupled ...</td>\n",
              "      <td>[Arka Majumdar, Andrei Faraon, Erik Kim, Dirk ...</td>\n",
              "      <td>We study the coupling between a photonic cryst...</td>\n",
              "      <td>5 pages, 4 figures</td>\n",
              "      <td>None</td>\n",
              "      <td>10.1103/PhysRevB.82.045306</td>\n",
              "      <td>quant-ph</td>\n",
              "      <td>[quant-ph]</td>\n",
              "      <td>[http://dx.doi.org/10.1103/PhysRevB.82.045306,...</td>\n",
              "      <td>http://arxiv.org/pdf/1003.2350v1</td>\n",
              "      <td>{'id': 'http://arxiv.org/abs/1003.2350v1', 'gu...</td>\n",
              "    </tr>\n",
              "    <tr>\n",
              "      <th>7</th>\n",
              "      <td>http://arxiv.org/abs/1201.1258v1</td>\n",
              "      <td>2012-01-05 18:56:21+00:00</td>\n",
              "      <td>2012-01-05 18:56:21+00:00</td>\n",
              "      <td>Photoluminescence from In0.5Ga0.5As/GaP quantu...</td>\n",
              "      <td>[Kelley Rivoire, Sonia Buckley, Yuncheng Song,...</td>\n",
              "      <td>We demonstrate room temperature visible wavele...</td>\n",
              "      <td>None</td>\n",
              "      <td>None</td>\n",
              "      <td>10.1103/PhysRevB.85.045319</td>\n",
              "      <td>quant-ph</td>\n",
              "      <td>[quant-ph, physics.optics]</td>\n",
              "      <td>[http://dx.doi.org/10.1103/PhysRevB.85.045319,...</td>\n",
              "      <td>http://arxiv.org/pdf/1201.1258v1</td>\n",
              "      <td>{'id': 'http://arxiv.org/abs/1201.1258v1', 'gu...</td>\n",
              "    </tr>\n",
              "    <tr>\n",
              "      <th>8</th>\n",
              "      <td>http://arxiv.org/abs/1206.2674v1</td>\n",
              "      <td>2012-06-12 21:00:22+00:00</td>\n",
              "      <td>2012-06-12 21:00:22+00:00</td>\n",
              "      <td>Effective microscopic theory of quantum dot su...</td>\n",
              "      <td>[U. Aeberhard]</td>\n",
              "      <td>We introduce a quantum dot orbital tight-bindi...</td>\n",
              "      <td>9 pages, 6 figures; Special Issue: Numerical S...</td>\n",
              "      <td>Optical and Quantum Electronics 44, 133 (2012)</td>\n",
              "      <td>10.1007/s11082-011-9529-9</td>\n",
              "      <td>cond-mat.mes-hall</td>\n",
              "      <td>[cond-mat.mes-hall, cond-mat.mtrl-sci]</td>\n",
              "      <td>[http://dx.doi.org/10.1007/s11082-011-9529-9, ...</td>\n",
              "      <td>http://arxiv.org/pdf/1206.2674v1</td>\n",
              "      <td>{'id': 'http://arxiv.org/abs/1206.2674v1', 'gu...</td>\n",
              "    </tr>\n",
              "    <tr>\n",
              "      <th>9</th>\n",
              "      <td>http://arxiv.org/abs/1405.1981v1</td>\n",
              "      <td>2014-05-08 15:51:52+00:00</td>\n",
              "      <td>2014-05-08 15:51:52+00:00</td>\n",
              "      <td>A single quantum dot as an optical thermometer...</td>\n",
              "      <td>[Florian Haupt, Atac Imamoglu, Martin Kroner]</td>\n",
              "      <td>Resonant laser spectroscopy of a negatively ch...</td>\n",
              "      <td>11 pages, 4 figures</td>\n",
              "      <td>Phys. Rev. Applied 2, 024001 (2014)</td>\n",
              "      <td>10.1103/PhysRevApplied.2.024001</td>\n",
              "      <td>cond-mat.mes-hall</td>\n",
              "      <td>[cond-mat.mes-hall]</td>\n",
              "      <td>[http://dx.doi.org/10.1103/PhysRevApplied.2.02...</td>\n",
              "      <td>http://arxiv.org/pdf/1405.1981v1</td>\n",
              "      <td>{'id': 'http://arxiv.org/abs/1405.1981v1', 'gu...</td>\n",
              "    </tr>\n",
              "  </tbody>\n",
              "</table>\n",
              "</div>"
            ],
            "text/plain": [
              "                                  entry_id                   updated  \\\n",
              "0  http://arxiv.org/abs/cond-mat/0310363v1 2003-10-15 20:15:59+00:00   \n",
              "1        http://arxiv.org/abs/2008.11666v1 2020-08-26 16:48:21+00:00   \n",
              "2  http://arxiv.org/abs/cond-mat/0411742v1 2004-11-30 02:56:15+00:00   \n",
              "3         http://arxiv.org/abs/1403.4790v1 2014-03-19 13:03:49+00:00   \n",
              "4  http://arxiv.org/abs/cond-mat/0403328v1 2004-03-12 18:28:06+00:00   \n",
              "5  http://arxiv.org/abs/cond-mat/0411484v1 2004-11-18 16:47:14+00:00   \n",
              "6         http://arxiv.org/abs/1003.2350v1 2010-03-11 15:52:09+00:00   \n",
              "7         http://arxiv.org/abs/1201.1258v1 2012-01-05 18:56:21+00:00   \n",
              "8         http://arxiv.org/abs/1206.2674v1 2012-06-12 21:00:22+00:00   \n",
              "9         http://arxiv.org/abs/1405.1981v1 2014-05-08 15:51:52+00:00   \n",
              "\n",
              "                  published  \\\n",
              "0 2003-10-15 20:15:59+00:00   \n",
              "1 2020-08-26 16:48:21+00:00   \n",
              "2 2004-11-30 02:56:15+00:00   \n",
              "3 2014-03-19 13:03:49+00:00   \n",
              "4 2004-03-12 18:28:06+00:00   \n",
              "5 2004-11-18 16:47:14+00:00   \n",
              "6 2010-03-11 15:52:09+00:00   \n",
              "7 2012-01-05 18:56:21+00:00   \n",
              "8 2012-06-12 21:00:22+00:00   \n",
              "9 2014-05-08 15:51:52+00:00   \n",
              "\n",
              "                                               title  \\\n",
              "0  Excitonic properties of strained wurtzite and ...   \n",
              "1  A two-dimensional array of single-hole quantum...   \n",
              "2  Polar optical phonons in wurtzite spheroidal q...   \n",
              "3  Group-velocity slowdown in quantum-dots and qu...   \n",
              "4  A new method to epitaxially grow long-range or...   \n",
              "5  Giant optical anisotropy in a single InAs quan...   \n",
              "6  Linewidth broadening of a quantum dot coupled ...   \n",
              "7  Photoluminescence from In0.5Ga0.5As/GaP quantu...   \n",
              "8  Effective microscopic theory of quantum dot su...   \n",
              "9  A single quantum dot as an optical thermometer...   \n",
              "\n",
              "                                             authors  \\\n",
              "0     [Vladimir A. Fonoberov, Alexander A. Balandin]   \n",
              "1  [F. van Riggelen, N. W. Hendrickx, W. I. L. La...   \n",
              "2     [Vladimir A. Fonoberov, Alexander A. Balandin]   \n",
              "3  [Stephan Michael, Weng W. Chow, Hans Christian...   \n",
              "4  [J. Bauer, D. Schuh, E. Uccelli, R. Schulz, A....   \n",
              "5  [I. Favero, Guillaume Cassabois, A. Jankovic, ...   \n",
              "6  [Arka Majumdar, Andrei Faraon, Erik Kim, Dirk ...   \n",
              "7  [Kelley Rivoire, Sonia Buckley, Yuncheng Song,...   \n",
              "8                                     [U. Aeberhard]   \n",
              "9      [Florian Haupt, Atac Imamoglu, Martin Kroner]   \n",
              "\n",
              "                                             summary  \\\n",
              "0  We investigate exciton states theoretically in...   \n",
              "1  Quantum dots fabricated using techniques and m...   \n",
              "2  Polar optical-phonon modes are derived analyti...   \n",
              "3  We investigate theoretically the slowdown of o...   \n",
              "4  We report on a new approach for positioning of...   \n",
              "5  We present the experimental evidence of giant ...   \n",
              "6  We study the coupling between a photonic cryst...   \n",
              "7  We demonstrate room temperature visible wavele...   \n",
              "8  We introduce a quantum dot orbital tight-bindi...   \n",
              "9  Resonant laser spectroscopy of a negatively ch...   \n",
              "\n",
              "                                             comment  \\\n",
              "0  18 pages, accepted for publication in the Jour...   \n",
              "1                                 7 pages, 4 figures   \n",
              "2                                           11 pages   \n",
              "3  Physics and Simulation of Optoelectronic Devic...   \n",
              "4                                               None   \n",
              "5               submitted to Applied Physics Letters   \n",
              "6                                 5 pages, 4 figures   \n",
              "7                                               None   \n",
              "8  9 pages, 6 figures; Special Issue: Numerical S...   \n",
              "9                                11 pages, 4 figures   \n",
              "\n",
              "                                      journal_ref  \\\n",
              "0                  J. Appl. Phys. 94, 7178 (2003)   \n",
              "1                                            None   \n",
              "2       J. Phys.: Condens. Matter 17, 1085 (2005)   \n",
              "3                                            None   \n",
              "4                                            None   \n",
              "5                                            None   \n",
              "6                                            None   \n",
              "7                                            None   \n",
              "8  Optical and Quantum Electronics 44, 133 (2012)   \n",
              "9             Phys. Rev. Applied 2, 024001 (2014)   \n",
              "\n",
              "                               doi   primary_category  \\\n",
              "0                10.1063/1.1623330  cond-mat.mes-hall   \n",
              "1                10.1063/5.0037330  cond-mat.mes-hall   \n",
              "2       10.1088/0953-8984/17/7/003  cond-mat.mes-hall   \n",
              "3               10.1117/12.2042412  cond-mat.mes-hall   \n",
              "4                             None  cond-mat.mes-hall   \n",
              "5                10.1063/1.1854733     cond-mat.other   \n",
              "6       10.1103/PhysRevB.82.045306           quant-ph   \n",
              "7       10.1103/PhysRevB.85.045319           quant-ph   \n",
              "8        10.1007/s11082-011-9529-9  cond-mat.mes-hall   \n",
              "9  10.1103/PhysRevApplied.2.024001  cond-mat.mes-hall   \n",
              "\n",
              "                               categories  \\\n",
              "0                     [cond-mat.mes-hall]   \n",
              "1                     [cond-mat.mes-hall]   \n",
              "2                     [cond-mat.mes-hall]   \n",
              "3  [cond-mat.mes-hall, cond-mat.mtrl-sci]   \n",
              "4                     [cond-mat.mes-hall]   \n",
              "5                        [cond-mat.other]   \n",
              "6                              [quant-ph]   \n",
              "7              [quant-ph, physics.optics]   \n",
              "8  [cond-mat.mes-hall, cond-mat.mtrl-sci]   \n",
              "9                     [cond-mat.mes-hall]   \n",
              "\n",
              "                                               links  \\\n",
              "0  [http://dx.doi.org/10.1063/1.1623330, http://a...   \n",
              "1  [http://dx.doi.org/10.1063/5.0037330, http://a...   \n",
              "2  [http://dx.doi.org/10.1088/0953-8984/17/7/003,...   \n",
              "3  [http://dx.doi.org/10.1117/12.2042412, http://...   \n",
              "4  [http://arxiv.org/abs/cond-mat/0403328v1, http...   \n",
              "5  [http://dx.doi.org/10.1063/1.1854733, http://a...   \n",
              "6  [http://dx.doi.org/10.1103/PhysRevB.82.045306,...   \n",
              "7  [http://dx.doi.org/10.1103/PhysRevB.85.045319,...   \n",
              "8  [http://dx.doi.org/10.1007/s11082-011-9529-9, ...   \n",
              "9  [http://dx.doi.org/10.1103/PhysRevApplied.2.02...   \n",
              "\n",
              "                                   pdf_url  \\\n",
              "0  http://arxiv.org/pdf/cond-mat/0310363v1   \n",
              "1        http://arxiv.org/pdf/2008.11666v1   \n",
              "2  http://arxiv.org/pdf/cond-mat/0411742v1   \n",
              "3         http://arxiv.org/pdf/1403.4790v1   \n",
              "4  http://arxiv.org/pdf/cond-mat/0403328v1   \n",
              "5  http://arxiv.org/pdf/cond-mat/0411484v1   \n",
              "6         http://arxiv.org/pdf/1003.2350v1   \n",
              "7         http://arxiv.org/pdf/1201.1258v1   \n",
              "8         http://arxiv.org/pdf/1206.2674v1   \n",
              "9         http://arxiv.org/pdf/1405.1981v1   \n",
              "\n",
              "                                                _raw  \n",
              "0  {'id': 'http://arxiv.org/abs/cond-mat/0310363v...  \n",
              "1  {'id': 'http://arxiv.org/abs/2008.11666v1', 'g...  \n",
              "2  {'id': 'http://arxiv.org/abs/cond-mat/0411742v...  \n",
              "3  {'id': 'http://arxiv.org/abs/1403.4790v1', 'gu...  \n",
              "4  {'id': 'http://arxiv.org/abs/cond-mat/0403328v...  \n",
              "5  {'id': 'http://arxiv.org/abs/cond-mat/0411484v...  \n",
              "6  {'id': 'http://arxiv.org/abs/1003.2350v1', 'gu...  \n",
              "7  {'id': 'http://arxiv.org/abs/1201.1258v1', 'gu...  \n",
              "8  {'id': 'http://arxiv.org/abs/1206.2674v1', 'gu...  \n",
              "9  {'id': 'http://arxiv.org/abs/1405.1981v1', 'gu...  "
            ]
          },
          "execution_count": 5,
          "metadata": {},
          "output_type": "execute_result"
        }
      ],
      "source": [
        "qd_df.head(10)"
      ]
    },
    {
      "cell_type": "markdown",
      "metadata": {
        "id": "zBtS8HzZhxbX"
      },
      "source": [
        "Next, we'll create list of all of the columns in the dataframe to see what else is there:"
      ]
    },
    {
      "cell_type": "code",
      "execution_count": null,
      "metadata": {
        "id": "YCcfwMjRhxbY",
        "outputId": "9224e232-a090-49e5-fd3d-393d5a26905e"
      },
      "outputs": [
        {
          "data": {
            "text/plain": [
              "['entry_id',\n",
              " 'updated',\n",
              " 'published',\n",
              " 'title',\n",
              " 'authors',\n",
              " 'summary',\n",
              " 'comment',\n",
              " 'journal_ref',\n",
              " 'doi',\n",
              " 'primary_category',\n",
              " 'categories',\n",
              " 'links',\n",
              " 'pdf_url',\n",
              " '_raw']"
            ]
          },
          "execution_count": 6,
          "metadata": {},
          "output_type": "execute_result"
        }
      ],
      "source": [
        "list(qd_df)"
      ]
    },
    {
      "cell_type": "markdown",
      "metadata": {
        "id": "VEiJ1YPBhxbY"
      },
      "source": [
        "We have 14 columns overall. We'll add two derived columns––the name of the first listed author and a reference to the original `arxiv.Result` object-–then narrow the dataframe to paper titles, `published` dates, and first authors to run some analysis of publishing patterns over time."
      ]
    },
    {
      "cell_type": "code",
      "execution_count": null,
      "metadata": {
        "id": "opMgENCchxbY",
        "outputId": "006e341c-5595-4dc9-be29-3df8e67e1ef1"
      },
      "outputs": [
        {
          "data": {
            "text/html": [
              "<div>\n",
              "<style scoped>\n",
              "    .dataframe tbody tr th:only-of-type {\n",
              "        vertical-align: middle;\n",
              "    }\n",
              "\n",
              "    .dataframe tbody tr th {\n",
              "        vertical-align: top;\n",
              "    }\n",
              "\n",
              "    .dataframe thead th {\n",
              "        text-align: right;\n",
              "    }\n",
              "</style>\n",
              "<table border=\"1\" class=\"dataframe\">\n",
              "  <thead>\n",
              "    <tr style=\"text-align: right;\">\n",
              "      <th></th>\n",
              "      <th>title</th>\n",
              "      <th>published</th>\n",
              "      <th>first_author</th>\n",
              "      <th>_result</th>\n",
              "    </tr>\n",
              "  </thead>\n",
              "  <tbody>\n",
              "    <tr>\n",
              "      <th>0</th>\n",
              "      <td>Excitonic properties of strained wurtzite and ...</td>\n",
              "      <td>2003-10-15 20:15:59+00:00</td>\n",
              "      <td>Vladimir A. Fonoberov</td>\n",
              "      <td>http://arxiv.org/abs/cond-mat/0310363v1</td>\n",
              "    </tr>\n",
              "    <tr>\n",
              "      <th>1</th>\n",
              "      <td>A two-dimensional array of single-hole quantum...</td>\n",
              "      <td>2020-08-26 16:48:21+00:00</td>\n",
              "      <td>F. van Riggelen</td>\n",
              "      <td>http://arxiv.org/abs/2008.11666v1</td>\n",
              "    </tr>\n",
              "    <tr>\n",
              "      <th>2</th>\n",
              "      <td>Polar optical phonons in wurtzite spheroidal q...</td>\n",
              "      <td>2004-11-30 02:56:15+00:00</td>\n",
              "      <td>Vladimir A. Fonoberov</td>\n",
              "      <td>http://arxiv.org/abs/cond-mat/0411742v1</td>\n",
              "    </tr>\n",
              "    <tr>\n",
              "      <th>3</th>\n",
              "      <td>Group-velocity slowdown in quantum-dots and qu...</td>\n",
              "      <td>2014-03-19 13:03:49+00:00</td>\n",
              "      <td>Stephan Michael</td>\n",
              "      <td>http://arxiv.org/abs/1403.4790v1</td>\n",
              "    </tr>\n",
              "    <tr>\n",
              "      <th>4</th>\n",
              "      <td>A new method to epitaxially grow long-range or...</td>\n",
              "      <td>2004-03-12 18:28:06+00:00</td>\n",
              "      <td>J. Bauer</td>\n",
              "      <td>http://arxiv.org/abs/cond-mat/0403328v1</td>\n",
              "    </tr>\n",
              "    <tr>\n",
              "      <th>...</th>\n",
              "      <td>...</td>\n",
              "      <td>...</td>\n",
              "      <td>...</td>\n",
              "      <td>...</td>\n",
              "    </tr>\n",
              "    <tr>\n",
              "      <th>10761</th>\n",
              "      <td>Integrated photonics enables continuous-beam e...</td>\n",
              "      <td>2021-05-08 16:17:01+00:00</td>\n",
              "      <td>J. -W. Henke</td>\n",
              "      <td>http://arxiv.org/abs/2105.03729v2</td>\n",
              "    </tr>\n",
              "    <tr>\n",
              "      <th>10762</th>\n",
              "      <td>Asymptotic entanglement sudden death in two at...</td>\n",
              "      <td>2021-05-12 14:29:44+00:00</td>\n",
              "      <td>Gehad Sadiek</td>\n",
              "      <td>http://arxiv.org/abs/2105.05694v1</td>\n",
              "    </tr>\n",
              "    <tr>\n",
              "      <th>10763</th>\n",
              "      <td>Engineering interfacial quantum states and ele...</td>\n",
              "      <td>2021-07-21 15:19:10+00:00</td>\n",
              "      <td>Ignacio Piquero-Zulaica</td>\n",
              "      <td>http://arxiv.org/abs/2107.10141v1</td>\n",
              "    </tr>\n",
              "    <tr>\n",
              "      <th>10764</th>\n",
              "      <td>Implementation of the SMART protocol for globa...</td>\n",
              "      <td>2021-08-02 12:46:49+00:00</td>\n",
              "      <td>Ingvild Hansen</td>\n",
              "      <td>http://arxiv.org/abs/2108.00836v3</td>\n",
              "    </tr>\n",
              "    <tr>\n",
              "      <th>10765</th>\n",
              "      <td>Indistinguishable single photons from spatiall...</td>\n",
              "      <td>2021-08-03 12:00:47+00:00</td>\n",
              "      <td>Jiefei Zhang</td>\n",
              "      <td>http://arxiv.org/abs/2108.01428v2</td>\n",
              "    </tr>\n",
              "  </tbody>\n",
              "</table>\n",
              "<p>10766 rows × 4 columns</p>\n",
              "</div>"
            ],
            "text/plain": [
              "                                                   title  \\\n",
              "0      Excitonic properties of strained wurtzite and ...   \n",
              "1      A two-dimensional array of single-hole quantum...   \n",
              "2      Polar optical phonons in wurtzite spheroidal q...   \n",
              "3      Group-velocity slowdown in quantum-dots and qu...   \n",
              "4      A new method to epitaxially grow long-range or...   \n",
              "...                                                  ...   \n",
              "10761  Integrated photonics enables continuous-beam e...   \n",
              "10762  Asymptotic entanglement sudden death in two at...   \n",
              "10763  Engineering interfacial quantum states and ele...   \n",
              "10764  Implementation of the SMART protocol for globa...   \n",
              "10765  Indistinguishable single photons from spatiall...   \n",
              "\n",
              "                      published             first_author  \\\n",
              "0     2003-10-15 20:15:59+00:00    Vladimir A. Fonoberov   \n",
              "1     2020-08-26 16:48:21+00:00          F. van Riggelen   \n",
              "2     2004-11-30 02:56:15+00:00    Vladimir A. Fonoberov   \n",
              "3     2014-03-19 13:03:49+00:00          Stephan Michael   \n",
              "4     2004-03-12 18:28:06+00:00                 J. Bauer   \n",
              "...                         ...                      ...   \n",
              "10761 2021-05-08 16:17:01+00:00             J. -W. Henke   \n",
              "10762 2021-05-12 14:29:44+00:00             Gehad Sadiek   \n",
              "10763 2021-07-21 15:19:10+00:00  Ignacio Piquero-Zulaica   \n",
              "10764 2021-08-02 12:46:49+00:00           Ingvild Hansen   \n",
              "10765 2021-08-03 12:00:47+00:00             Jiefei Zhang   \n",
              "\n",
              "                                       _result  \n",
              "0      http://arxiv.org/abs/cond-mat/0310363v1  \n",
              "1            http://arxiv.org/abs/2008.11666v1  \n",
              "2      http://arxiv.org/abs/cond-mat/0411742v1  \n",
              "3             http://arxiv.org/abs/1403.4790v1  \n",
              "4      http://arxiv.org/abs/cond-mat/0403328v1  \n",
              "...                                        ...  \n",
              "10761        http://arxiv.org/abs/2105.03729v2  \n",
              "10762        http://arxiv.org/abs/2105.05694v1  \n",
              "10763        http://arxiv.org/abs/2107.10141v1  \n",
              "10764        http://arxiv.org/abs/2108.00836v3  \n",
              "10765        http://arxiv.org/abs/2108.01428v2  \n",
              "\n",
              "[10766 rows x 4 columns]"
            ]
          },
          "execution_count": 7,
          "metadata": {},
          "output_type": "execute_result"
        }
      ],
      "source": [
        "# Add a first_author column: the name of the first author among each paper's list of authors.\n",
        "qd_df['first_author'] = [authors_list[0].name for authors_list in qd_df['authors']]\n",
        "# Keep a reference to the original results in the dataframe: this is useful for downloading PDFs.\n",
        "qd_df['_result'] = quantum_dots\n",
        "\n",
        "# Narrow our dataframe to just the columns we want for our analysis.\n",
        "qd_df = qd_df[['title', 'published', 'first_author', '_result']]\n",
        "qd_df"
      ]
    },
    {
      "cell_type": "markdown",
      "metadata": {
        "id": "_1AMUc0ohxbY"
      },
      "source": [
        "## Visualize your results"
      ]
    },
    {
      "cell_type": "markdown",
      "metadata": {
        "id": "iOP-kZcbhxbY"
      },
      "source": [
        "Get a sense of the how your topic has trended over time. When did research on your topic take off? Create a bar chart of the number of articles published in each year."
      ]
    },
    {
      "cell_type": "code",
      "execution_count": null,
      "metadata": {
        "id": "15kbgOINhxbZ",
        "outputId": "089eb816-919a-4f67-90bf-0ce106970c19"
      },
      "outputs": [
        {
          "data": {
            "text/plain": [
              "<matplotlib.axes._subplots.AxesSubplot at 0x12120d790>"
            ]
          },
          "execution_count": 8,
          "metadata": {},
          "output_type": "execute_result"
        },
        {
          "data": {
            "image/png": "[encoded data removed]",
            "text/plain": [
              "<Figure size 432x288 with 1 Axes>"
            ]
          },
          "metadata": {
            "needs_background": "light"
          },
          "output_type": "display_data"
        }
      ],
      "source": [
        "qd_df[\"published\"].groupby(qd_df[\"published\"].dt.year).count().plot(kind=\"bar\")"
      ]
    },
    {
      "cell_type": "markdown",
      "metadata": {
        "id": "EDB0UIkQhxbZ"
      },
      "source": [
        "Explore authors to see who is publishing your topic. Group by author, then sort and select the top 20 authors."
      ]
    },
    {
      "cell_type": "code",
      "execution_count": null,
      "metadata": {
        "id": "UzcC3v6RhxbZ",
        "outputId": "d6fb1fdf-3ab7-41cd-a07c-d3854deb216b"
      },
      "outputs": [
        {
          "data": {
            "text/plain": [
              "first_author\n",
              "Bing Dong                 27\n",
              "Y. Alhassid               20\n",
              "Constantine Yannouleas    18\n",
              "David M. -T. Kuo          16\n",
              "Akira Oguri               15\n",
              "Xuedong Hu                15\n",
              "Kicheon Kang              14\n",
              "B. Szafran                14\n",
              "Rafael Sánchez            14\n",
              "Massimo Rontani           14\n",
              "Ulrich Hohenester         14\n",
              "C. W. J. Beenakker        13\n",
              "P. W. Brouwer             13\n",
              "O. Entin-Wohlman          12\n",
              "G. Giavaras               12\n",
              "Vidar Gudmundsson         12\n",
              "Piotr Trocha              12\n",
              "Arka Majumdar             11\n",
              "A. A. Aligia              11\n",
              "Ramin M. Abolfath         11\n",
              "Name: first_author, dtype: int64"
            ]
          },
          "execution_count": 9,
          "metadata": {},
          "output_type": "execute_result"
        }
      ],
      "source": [
        "qd_authors = qd_df.groupby(qd_df[\"first_author\"])[\"first_author\"].count().sort_values(ascending=False)\n",
        "qd_authors.head(20)"
      ]
    },
    {
      "cell_type": "markdown",
      "metadata": {
        "id": "juOIn2DbhxbZ"
      },
      "source": [
        "## Identify and download papers"
      ]
    },
    {
      "cell_type": "markdown",
      "metadata": {
        "id": "kMnBUpf-hxbZ"
      },
      "source": [
        "Let's download the oldest paper about quantum dots co-authored by Piotr Trocha:"
      ]
    },
    {
      "cell_type": "code",
      "execution_count": null,
      "metadata": {
        "id": "1lw1d6kzhxbZ",
        "outputId": "f6483ce8-1cc8-4f60-c7fd-85eedf37643c"
      },
      "outputs": [
        {
          "data": {
            "text/html": [
              "<div>\n",
              "<style scoped>\n",
              "    .dataframe tbody tr th:only-of-type {\n",
              "        vertical-align: middle;\n",
              "    }\n",
              "\n",
              "    .dataframe tbody tr th {\n",
              "        vertical-align: top;\n",
              "    }\n",
              "\n",
              "    .dataframe thead th {\n",
              "        text-align: right;\n",
              "    }\n",
              "</style>\n",
              "<table border=\"1\" class=\"dataframe\">\n",
              "  <thead>\n",
              "    <tr style=\"text-align: right;\">\n",
              "      <th></th>\n",
              "      <th>title</th>\n",
              "      <th>published</th>\n",
              "      <th>first_author</th>\n",
              "      <th>_result</th>\n",
              "    </tr>\n",
              "  </thead>\n",
              "  <tbody>\n",
              "    <tr>\n",
              "      <th>848</th>\n",
              "      <td>Dicke-like effect in spin-polarized transport ...</td>\n",
              "      <td>2007-11-22 16:11:11+00:00</td>\n",
              "      <td>Piotr Trocha</td>\n",
              "      <td>http://arxiv.org/abs/0711.3611v2</td>\n",
              "    </tr>\n",
              "    <tr>\n",
              "      <th>2270</th>\n",
              "      <td>Kondo-Dicke resonances in electronic transport...</td>\n",
              "      <td>2008-03-28 15:49:07+00:00</td>\n",
              "      <td>Piotr Trocha</td>\n",
              "      <td>http://arxiv.org/abs/0803.4154v1</td>\n",
              "    </tr>\n",
              "    <tr>\n",
              "      <th>3315</th>\n",
              "      <td>Negative tunnel magnetoresistance and differen...</td>\n",
              "      <td>2009-11-02 11:45:03+00:00</td>\n",
              "      <td>Piotr Trocha</td>\n",
              "      <td>http://arxiv.org/abs/0911.0291v1</td>\n",
              "    </tr>\n",
              "    <tr>\n",
              "      <th>5772</th>\n",
              "      <td>Beating in electronic transport through quantu...</td>\n",
              "      <td>2010-04-11 16:20:04+00:00</td>\n",
              "      <td>Piotr Trocha</td>\n",
              "      <td>http://arxiv.org/abs/1004.1819v2</td>\n",
              "    </tr>\n",
              "    <tr>\n",
              "      <th>2391</th>\n",
              "      <td>Orbital Kondo effect in double quantum dots</td>\n",
              "      <td>2010-08-17 14:13:23+00:00</td>\n",
              "      <td>Piotr Trocha</td>\n",
              "      <td>http://arxiv.org/abs/1008.2902v2</td>\n",
              "    </tr>\n",
              "    <tr>\n",
              "      <th>2428</th>\n",
              "      <td>The influence of spin-flip scattering on the p...</td>\n",
              "      <td>2011-05-08 20:12:41+00:00</td>\n",
              "      <td>Piotr Trocha</td>\n",
              "      <td>http://arxiv.org/abs/1105.1550v1</td>\n",
              "    </tr>\n",
              "    <tr>\n",
              "      <th>5402</th>\n",
              "      <td>Large enhancement of thermoelectric effects in...</td>\n",
              "      <td>2011-08-11 14:49:51+00:00</td>\n",
              "      <td>Piotr Trocha</td>\n",
              "      <td>http://arxiv.org/abs/1108.2422v2</td>\n",
              "    </tr>\n",
              "    <tr>\n",
              "      <th>7661</th>\n",
              "      <td>The role of the indirect tunneling processes a...</td>\n",
              "      <td>2011-09-12 20:51:49+00:00</td>\n",
              "      <td>Piotr Trocha</td>\n",
              "      <td>http://arxiv.org/abs/1109.2621v1</td>\n",
              "    </tr>\n",
              "    <tr>\n",
              "      <th>2613</th>\n",
              "      <td>Spin-polarized Andreev transport influenced by...</td>\n",
              "      <td>2014-09-14 23:54:35+00:00</td>\n",
              "      <td>Piotr Trocha</td>\n",
              "      <td>http://arxiv.org/abs/1409.4122v1</td>\n",
              "    </tr>\n",
              "    <tr>\n",
              "      <th>7789</th>\n",
              "      <td>Spin-resolved Andreev transport through double...</td>\n",
              "      <td>2015-08-24 19:02:49+00:00</td>\n",
              "      <td>Piotr Trocha</td>\n",
              "      <td>http://arxiv.org/abs/1508.05915v1</td>\n",
              "    </tr>\n",
              "    <tr>\n",
              "      <th>6015</th>\n",
              "      <td>Spin-dependent thermoelectric phenomena in a q...</td>\n",
              "      <td>2017-05-02 14:55:38+00:00</td>\n",
              "      <td>Piotr Trocha</td>\n",
              "      <td>http://arxiv.org/abs/1705.01007v1</td>\n",
              "    </tr>\n",
              "    <tr>\n",
              "      <th>6436</th>\n",
              "      <td>Cross-correlations in a quantum dot Cooper pai...</td>\n",
              "      <td>2018-07-23 22:28:01+00:00</td>\n",
              "      <td>Piotr Trocha</td>\n",
              "      <td>http://arxiv.org/abs/1807.08850v1</td>\n",
              "    </tr>\n",
              "  </tbody>\n",
              "</table>\n",
              "</div>"
            ],
            "text/plain": [
              "                                                  title  \\\n",
              "848   Dicke-like effect in spin-polarized transport ...   \n",
              "2270  Kondo-Dicke resonances in electronic transport...   \n",
              "3315  Negative tunnel magnetoresistance and differen...   \n",
              "5772  Beating in electronic transport through quantu...   \n",
              "2391        Orbital Kondo effect in double quantum dots   \n",
              "2428  The influence of spin-flip scattering on the p...   \n",
              "5402  Large enhancement of thermoelectric effects in...   \n",
              "7661  The role of the indirect tunneling processes a...   \n",
              "2613  Spin-polarized Andreev transport influenced by...   \n",
              "7789  Spin-resolved Andreev transport through double...   \n",
              "6015  Spin-dependent thermoelectric phenomena in a q...   \n",
              "6436  Cross-correlations in a quantum dot Cooper pai...   \n",
              "\n",
              "                     published  first_author  \\\n",
              "848  2007-11-22 16:11:11+00:00  Piotr Trocha   \n",
              "2270 2008-03-28 15:49:07+00:00  Piotr Trocha   \n",
              "3315 2009-11-02 11:45:03+00:00  Piotr Trocha   \n",
              "5772 2010-04-11 16:20:04+00:00  Piotr Trocha   \n",
              "2391 2010-08-17 14:13:23+00:00  Piotr Trocha   \n",
              "2428 2011-05-08 20:12:41+00:00  Piotr Trocha   \n",
              "5402 2011-08-11 14:49:51+00:00  Piotr Trocha   \n",
              "7661 2011-09-12 20:51:49+00:00  Piotr Trocha   \n",
              "2613 2014-09-14 23:54:35+00:00  Piotr Trocha   \n",
              "7789 2015-08-24 19:02:49+00:00  Piotr Trocha   \n",
              "6015 2017-05-02 14:55:38+00:00  Piotr Trocha   \n",
              "6436 2018-07-23 22:28:01+00:00  Piotr Trocha   \n",
              "\n",
              "                                _result  \n",
              "848    http://arxiv.org/abs/0711.3611v2  \n",
              "2270   http://arxiv.org/abs/0803.4154v1  \n",
              "3315   http://arxiv.org/abs/0911.0291v1  \n",
              "5772   http://arxiv.org/abs/1004.1819v2  \n",
              "2391   http://arxiv.org/abs/1008.2902v2  \n",
              "2428   http://arxiv.org/abs/1105.1550v1  \n",
              "5402   http://arxiv.org/abs/1108.2422v2  \n",
              "7661   http://arxiv.org/abs/1109.2621v1  \n",
              "2613   http://arxiv.org/abs/1409.4122v1  \n",
              "7789  http://arxiv.org/abs/1508.05915v1  \n",
              "6015  http://arxiv.org/abs/1705.01007v1  \n",
              "6436  http://arxiv.org/abs/1807.08850v1  "
            ]
          },
          "execution_count": 10,
          "metadata": {},
          "output_type": "execute_result"
        }
      ],
      "source": [
        "qd_Trocha_sorted  = qd_df[qd_df['first_author']=='Piotr Trocha'].sort_values('published')\n",
        "qd_Trocha_sorted"
      ]
    },
    {
      "cell_type": "code",
      "execution_count": null,
      "metadata": {
        "id": "aktGGoLohxbZ"
      },
      "outputs": [],
      "source": [
        "# Use the arxiv.Result object stored in the _result column to trigger a PDF download.\n",
        "qd_Trocha_oldest = qd_Trocha_sorted.iloc[0]\n",
        "qd_Trocha_oldest._result.download_pdf()"
      ]
    },
    {
      "cell_type": "markdown",
      "metadata": {
        "id": "eYRImMj3hxba"
      },
      "source": [
        "Confirm that the PDF has downloaded!"
      ]
    },
    {
      "cell_type": "markdown",
      "metadata": {
        "id": "bmnT31BJhxba"
      },
      "source": [
        "## Bibliography\n",
        "\n",
        "- Tim Head: https://betatim.github.io/posts/analysing-the-arxiv/\n",
        "- Lukas Schwab: https://github.com/lukasschwab/arxiv.py\n",
        "- ArXiV API user manual: https://arxiv.org/help/api/user-manual        "
      ]
    }
  ],
  "metadata": {
    "celltoolbar": "Tags",
    "kernelspec": {
      "display_name": "Python 3",
      "language": "python",
      "name": "python3"
    },
    "language_info": {
      "codemirror_mode": {
        "name": "ipython",
        "version": 3
      },
      "file_extension": ".py",
      "mimetype": "text/x-python",
      "name": "python",
      "nbconvert_exporter": "python",
      "pygments_lexer": "ipython3",
      "version": "3.7.6"
    },
    "colab": {
      "provenance": [],
      "include_colab_link": true
    }
  },
  "nbformat": 4,
  "nbformat_minor": 0
}